{
 "cells": [
  {
   "cell_type": "code",
   "execution_count": 1,
   "metadata": {},
   "outputs": [
    {
     "name": "stdout",
     "output_type": "stream",
     "text": [
      "    area  bedrooms  age   price\n",
      "0   2100         3   20  400000\n",
      "1   1600         3   15  330000\n",
      "2   2400         3   30  369000\n",
      "3   1416         2   20  232000\n",
      "4   3000         4    8  540000\n",
      "5   1985         4   18  350000\n",
      "6   1534         3   25  300000\n",
      "7   1427         3   25  275000\n",
      "8   1380         3   25  299000\n",
      "9   1525         3   10  345000\n",
      "10  2000         3   20  380000\n",
      "11  2200         4    5  485000\n",
      "12  1450         2   15  230000\n",
      "13  2500         4   12  495000\n",
      "14  1280         3   20  220000\n",
      "15  2080         3   25  385000\n",
      "16  1720         3   20  345000\n",
      "17  2590         4   15  535000\n",
      "18  1920         3   10  335000\n",
      "19  1765         3   15  320000\n"
     ]
    },
    {
     "name": "stderr",
     "output_type": "stream",
     "text": [
      "C:\\Users\\vignesh\\AppData\\Roaming\\Python\\Python312\\site-packages\\sklearn\\base.py:493: UserWarning: X does not have valid feature names, but LinearRegression was fitted with feature names\n",
      "  warnings.warn(\n"
     ]
    },
    {
     "data": {
      "text/plain": [
       "array([462216.68383417])"
      ]
     },
     "execution_count": 1,
     "metadata": {},
     "output_type": "execute_result"
    }
   ],
   "source": [
    "import pandas as pd\n",
    "import numpy as np\n",
    "from sklearn import linear_model\n",
    "df = pd.read_csv('homeprices.csv')\n",
    "print(df)\n",
    "df.bedrooms.median()\n",
    "df.bedrooms = df.bedrooms.fillna(df.bedrooms.median())\n",
    "df\n",
    "reg = linear_model.LinearRegression()\n",
    "reg.fit(df.drop('price',axis='columns'),df.price)\n",
    "reg.coef_\n",
    "reg.intercept_\n",
    "reg.predict([[3000, 3, 40]])"
   ]
  }
 ],
 "metadata": {
  "kernelspec": {
   "display_name": "Python 3",
   "language": "python",
   "name": "python3"
  },
  "language_info": {
   "codemirror_mode": {
    "name": "ipython",
    "version": 3
   },
   "file_extension": ".py",
   "mimetype": "text/x-python",
   "name": "python",
   "nbconvert_exporter": "python",
   "pygments_lexer": "ipython3",
   "version": "3.12.4"
  }
 },
 "nbformat": 4,
 "nbformat_minor": 2
}
