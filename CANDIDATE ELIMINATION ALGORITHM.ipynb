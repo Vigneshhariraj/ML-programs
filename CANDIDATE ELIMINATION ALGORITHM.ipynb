{
 "cells": [
  {
   "cell_type": "code",
   "execution_count": 1,
   "metadata": {},
   "outputs": [
    {
     "name": "stdout",
     "output_type": "stream",
     "text": [
      "Concepts= [['Sunny' 'Warm' 'Normal' 'Strong' 'Warm' 'Same']\n",
      " ['Sunny' 'Warm' 'High' 'Strong' 'Warm' 'Same']\n",
      " ['Rain' 'Cold' 'High' 'Strong' 'Warm' 'Change']\n",
      " ['Sunny' 'Warm' 'High' 'Strong' 'Cool' 'Change']]\n",
      "Target= ['Yes' 'Yes' 'No' 'Yes']\n",
      "Initialization of Specific_h and General_h\n",
      "specific_h= ['Sunny' 'Warm' 'Normal' 'Strong' 'Warm' 'Same']\n",
      "general_h= [['?', '?', '?', '?', '?', '?'], ['?', '?', '?', '?', '?', '?'], ['?', '?', '?', '?', '?', '?'], ['?', '?', '?', '?', '?', '?'], ['?', '?', '?', '?', '?', '?'], ['?', '?', '?', '?', '?', '?']]\n",
      "Final Specific_h:\n",
      "['Sunny' 'Warm' '?' 'Strong' '?' '?']\n",
      "Final General_h:\n",
      "[['?', 'Warm', '?', '?', '?', '?'], ['Sunny', '?', '?', '?', '?', '?']]\n"
     ]
    }
   ],
   "source": [
    "import numpy as np\n",
    "import pandas as pd\n",
    "\n",
    "# Read the data\n",
    "data = pd.read_csv('Finds.csv')\n",
    "\n",
    "# Ensure we only get feature columns in 'concepts'\n",
    "concepts = np.array(data.iloc[:, 1:-1])  # Skip index and target column\n",
    "print(\"Concepts=\", concepts)\n",
    "\n",
    "# Get the target column\n",
    "target = np.array(data.iloc[:, -1])\n",
    "print(\"Target=\", target)\n",
    "\n",
    "def learn(concepts, target): \n",
    "    specific_h = concepts[0].copy() \n",
    "    print(\"Initialization of Specific_h and General_h\") \n",
    "    print(\"specific_h=\", specific_h)\n",
    "    general_h = [[\"?\" for i in range(len(specific_h))] for _ in range(len(specific_h))]\n",
    "    print(\"general_h=\", general_h)\n",
    "\n",
    "    for i, h in enumerate(concepts):\n",
    "        if target[i] == \"Yes\":\n",
    "            for x in range(len(specific_h)):\n",
    "                if h[x] != specific_h[x]:\n",
    "                    specific_h[x] = '?'\n",
    "                    general_h[x][x] = '?'\n",
    "        elif target[i] == \"No\":\n",
    "            for x in range(len(specific_h)):\n",
    "                if h[x] != specific_h[x]:\n",
    "                    general_h[x][x] = specific_h[x]\n",
    "                else:\n",
    "                    general_h[x][x] = '?'\n",
    "\n",
    "    # Remove duplicate rows in general_h\n",
    "    general_h = [list(x) for x in set(tuple(x) for x in general_h)]\n",
    "    \n",
    "    # Filter out general_h rows that are all '?'\n",
    "    general_h = [h for h in general_h if any(val != '?' for val in h)]\n",
    "    \n",
    "    return specific_h, general_h\n",
    "\n",
    "# Learn from the data\n",
    "s_final, g_final = learn(concepts, target)\n",
    "\n",
    "# Output final hypotheses\n",
    "print(\"Final Specific_h:\", s_final, sep=\"\\n\")\n",
    "print(\"Final General_h:\", g_final, sep=\"\\n\")\n"
   ]
  }
 ],
 "metadata": {
  "kernelspec": {
   "display_name": "Python 3",
   "language": "python",
   "name": "python3"
  },
  "language_info": {
   "codemirror_mode": {
    "name": "ipython",
    "version": 3
   },
   "file_extension": ".py",
   "mimetype": "text/x-python",
   "name": "python",
   "nbconvert_exporter": "python",
   "pygments_lexer": "ipython3",
   "version": "3.12.4"
  }
 },
 "nbformat": 4,
 "nbformat_minor": 2
}
