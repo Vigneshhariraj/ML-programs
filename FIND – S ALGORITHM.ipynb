{
 "cells": [
  {
   "cell_type": "code",
   "execution_count": 1,
   "metadata": {},
   "outputs": [
    {
     "name": "stdout",
     "output_type": "stream",
     "text": [
      "   s.no    Sky Air Temp Humidity    Wind Water Forecast Enjoy Sport\n",
      "0     1  Sunny     Warm   Normal  Strong  Warm     Same         Yes\n",
      "1     2  Sunny     Warm     High  Strong  Warm     Same         Yes\n",
      "2     3   Rain     Cold     High  Strong  Warm   Change          No\n",
      "3     4  Sunny     Warm     High  Strong  Cool   Change         Yes\n",
      "[[1 'Sunny' 'Warm' 'Normal' 'Strong' 'Warm' 'Same']\n",
      " [2 'Sunny' 'Warm' 'High' 'Strong' 'Warm' 'Same']\n",
      " [3 'Rain' 'Cold' 'High' 'Strong' 'Warm' 'Change']\n",
      " [4 'Sunny' 'Warm' 'High' 'Strong' 'Cool' 'Change']]\n",
      "['Yes' 'Yes' 'No' 'Yes']\n",
      "The final hypothesis is: ['?' 'Sunny' 'Warm' '?' 'Strong' '?' '?']\n"
     ]
    }
   ],
   "source": [
    "import pandas as pd\n",
    "import numpy as np\n",
    "data=pd.read_csv(\"finds.csv\")\n",
    "print(data)\n",
    "#Create an array of all the attributes\n",
    "#Except last column all the other column must be included\n",
    "d=np.array(data)[:,:-1]\n",
    "print(d)\n",
    "target=np.array(data)[:,-1]\n",
    "print(target)\n",
    "#Train the function to implement find s algorithm\n",
    "def train(c,t):\n",
    "    for i, val in enumerate(t):\n",
    "        if val == \"Yes\":\n",
    "            specific_hypothesis = c[i].copy()\n",
    "            break\n",
    "    for i, val in enumerate(c):\n",
    "        if t[i] == \"Yes\":\n",
    "            for x in range(len(specific_hypothesis)):\n",
    "                if val[x] != specific_hypothesis[x]:\n",
    "                    specific_hypothesis[x] = '?'\n",
    "                else:\n",
    "                    pass\n",
    "    return specific_hypothesis\n",
    "print(\"The final hypothesis is:\",train(d,target))"
   ]
  }
 ],
 "metadata": {
  "kernelspec": {
   "display_name": "Python 3",
   "language": "python",
   "name": "python3"
  },
  "language_info": {
   "codemirror_mode": {
    "name": "ipython",
    "version": 3
   },
   "file_extension": ".py",
   "mimetype": "text/x-python",
   "name": "python",
   "nbconvert_exporter": "python",
   "pygments_lexer": "ipython3",
   "version": "3.12.4"
  }
 },
 "nbformat": 4,
 "nbformat_minor": 2
}
