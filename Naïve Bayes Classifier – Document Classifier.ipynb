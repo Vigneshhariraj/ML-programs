{
 "cells": [
  {
   "cell_type": "code",
   "execution_count": 1,
   "metadata": {},
   "outputs": [
    {
     "name": "stdout",
     "output_type": "stream",
     "text": [
      "The weather today is beautiful. -> pos\n",
      "This book was boring, I did not like it. -> pos\n",
      "I had a terrible experience at the store. -> pos\n",
      "\n",
      "Accuracy Metrics:\n",
      "Accuracy: 0.3333333333333333\n",
      "Recall: 1.0\n",
      "Precision: 0.3333333333333333\n",
      "Confusion Matrix:\n",
      " [[0 2]\n",
      " [0 1]]\n",
      "              precision    recall  f1-score   support\n",
      "\n",
      "         neg       0.00      0.00      0.00         2\n",
      "         pos       0.33      1.00      0.50         1\n",
      "\n",
      "    accuracy                           0.33         3\n",
      "   macro avg       0.17      0.50      0.25         3\n",
      "weighted avg       0.11      0.33      0.17         3\n",
      "\n"
     ]
    },
    {
     "name": "stderr",
     "output_type": "stream",
     "text": [
      "C:\\Users\\vignesh\\AppData\\Roaming\\Python\\Python312\\site-packages\\sklearn\\metrics\\_classification.py:1517: UndefinedMetricWarning: Precision is ill-defined and being set to 0.0 in labels with no predicted samples. Use `zero_division` parameter to control this behavior.\n",
      "  _warn_prf(average, modifier, f\"{metric.capitalize()} is\", len(result))\n",
      "C:\\Users\\vignesh\\AppData\\Roaming\\Python\\Python312\\site-packages\\sklearn\\metrics\\_classification.py:1517: UndefinedMetricWarning: Precision is ill-defined and being set to 0.0 in labels with no predicted samples. Use `zero_division` parameter to control this behavior.\n",
      "  _warn_prf(average, modifier, f\"{metric.capitalize()} is\", len(result))\n",
      "C:\\Users\\vignesh\\AppData\\Roaming\\Python\\Python312\\site-packages\\sklearn\\metrics\\_classification.py:1517: UndefinedMetricWarning: Precision is ill-defined and being set to 0.0 in labels with no predicted samples. Use `zero_division` parameter to control this behavior.\n",
      "  _warn_prf(average, modifier, f\"{metric.capitalize()} is\", len(result))\n"
     ]
    }
   ],
   "source": [
    "import pandas as pd\n",
    "from sklearn.model_selection import train_test_split \n",
    "from sklearn.feature_extraction.text import CountVectorizer\n",
    "from sklearn.naive_bayes import MultinomialNB\n",
    "from sklearn.metrics import accuracy_score, confusion_matrix, precision_score, recall_score, classification_report\n",
    "\n",
    "# Sample data for demonstration\n",
    "data = {\n",
    "    'message': [\n",
    "        \"I love this movie, it's so good.\",\n",
    "        \"This book was boring, I did not like it.\",\n",
    "        \"The food at that restaurant was amazing!\",\n",
    "        \"The service was terrible, I won't go back.\",\n",
    "        \"The concert last night was fantastic!\",\n",
    "        \"I had a terrible experience at the store.\",\n",
    "        \"The vacation was incredible, I had so much fun.\",\n",
    "        \"I'm disappointed with the product quality.\",\n",
    "        \"The weather today is beautiful.\",\n",
    "        \"The traffic was awful this morning.\"\n",
    "    ],\n",
    "    'label': ['pos', 'neg', 'pos', 'neg', 'pos', 'neg', 'pos', 'neg', 'pos', 'neg']\n",
    "}\n",
    "\n",
    "# Create DataFrame\n",
    "msg = pd.DataFrame(data)\n",
    "\n",
    "# Convert labels to numerical values\n",
    "msg['labelnum'] = msg.label.map({'pos': 1, 'neg': 0})\n",
    "\n",
    "# Split data into training and testing sets\n",
    "Xtrain, Xtest, ytrain, ytest = train_test_split(msg['message'], msg['labelnum'], random_state=42)\n",
    "\n",
    "# Initialize CountVectorizer\n",
    "count_v = CountVectorizer()\n",
    "\n",
    "# Fit and transform on training data\n",
    "Xtrain_dm = count_v.fit_transform(Xtrain)\n",
    "Xtest_dm = count_v.transform(Xtest)\n",
    "\n",
    "# Create DataFrame from Xtrain_dm.toarray()\n",
    "df = pd.DataFrame(Xtrain_dm.toarray(), columns=count_v.get_feature_names_out())\n",
    "\n",
    "# Initialize and train Multinomial Naive Bayes model\n",
    "clf = MultinomialNB()\n",
    "clf.fit(Xtrain_dm, ytrain)\n",
    "\n",
    "# Predictions\n",
    "pred = clf.predict(Xtest_dm)\n",
    "\n",
    "# Print results\n",
    "for doc, p in zip(Xtest, pred):\n",
    "    p = 'pos' if p == 1 else 'neg'\n",
    "    print(\"%s -> %s\" % (doc, p))\n",
    "\n",
    "# Print accuracy metrics\n",
    "print('\\nAccuracy Metrics:')\n",
    "print('Accuracy:', accuracy_score(ytest, pred))\n",
    "print('Recall:', recall_score(ytest, pred))\n",
    "print('Precision:', precision_score(ytest, pred))\n",
    "print('Confusion Matrix:\\n', confusion_matrix(ytest, pred))\n",
    "print(classification_report(ytest, pred, target_names=['neg', 'pos']))\n"
   ]
  }
 ],
 "metadata": {
  "kernelspec": {
   "display_name": "Python 3",
   "language": "python",
   "name": "python3"
  },
  "language_info": {
   "codemirror_mode": {
    "name": "ipython",
    "version": 3
   },
   "file_extension": ".py",
   "mimetype": "text/x-python",
   "name": "python",
   "nbconvert_exporter": "python",
   "pygments_lexer": "ipython3",
   "version": "3.12.4"
  }
 },
 "nbformat": 4,
 "nbformat_minor": 2
}
