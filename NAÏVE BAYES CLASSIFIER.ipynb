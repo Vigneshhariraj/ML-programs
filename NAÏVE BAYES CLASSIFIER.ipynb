{
 "cells": [
  {
   "cell_type": "code",
   "execution_count": 1,
   "metadata": {},
   "outputs": [
    {
     "name": "stdout",
     "output_type": "stream",
     "text": [
      "   Pclass  Age     Fare  female\n",
      "9       1   40  27.7208    True\n",
      "6       2    2  21.0750   False\n",
      "3       1   35  53.1000    True\n",
      "9    0\n",
      "6    0\n",
      "3    0\n",
      "Name: Survived, dtype: int64\n",
      "[1 1 1]\n",
      "[[0. 1.]\n",
      " [0. 1.]\n",
      " [0. 1.]]\n"
     ]
    }
   ],
   "source": [
    "import pandas as pd\n",
    "df = pd.read_csv(\"titanic.csv\")\n",
    "df.head()\n",
    "df.drop(['PassengerId','Name','SibSp','Parch','Ticket','Cabin','Embarked'],axis='columns',inplace=True)\n",
    "df.head()\n",
    "inputs = df.drop('Survived',axis='columns')\n",
    "target = df.Survived\n",
    "dummies = pd.get_dummies(inputs.Gender)\n",
    "dummies.head(3)\n",
    "inputs = pd.concat([inputs,dummies],axis='columns')\n",
    "inputs.head(3)\n",
    "inputs.drop(['Gender','male'],axis='columns',inplace=True)\n",
    "inputs.head(3)\n",
    "inputs.columns[inputs.isna().any()]\n",
    "inputs.Age[:10]\n",
    "inputs.Age = inputs.Age.fillna(inputs.Age.mean())\n",
    "inputs.head()\n",
    "from sklearn.model_selection import train_test_split\n",
    "X_train, X_test, y_train, y_test = train_test_split(inputs,target,test_size=0.3)\n",
    "from sklearn.naive_bayes import GaussianNB\n",
    "model = GaussianNB()\n",
    "model.fit(X_train,y_train)\n",
    "model.score(X_test,y_test)\n",
    "print(X_test[0:10])\n",
    "print(y_test[0:10])\n",
    "print(model.predict(X_test[0:10]))\n",
    "print(model.predict_proba(X_test[:10]))"
   ]
  }
 ],
 "metadata": {
  "kernelspec": {
   "display_name": "Python 3",
   "language": "python",
   "name": "python3"
  },
  "language_info": {
   "codemirror_mode": {
    "name": "ipython",
    "version": 3
   },
   "file_extension": ".py",
   "mimetype": "text/x-python",
   "name": "python",
   "nbconvert_exporter": "python",
   "pygments_lexer": "ipython3",
   "version": "3.12.4"
  }
 },
 "nbformat": 4,
 "nbformat_minor": 2
}
